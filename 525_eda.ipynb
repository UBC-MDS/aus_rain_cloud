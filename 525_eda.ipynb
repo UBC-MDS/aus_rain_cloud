{
 "cells": [
  {
   "cell_type": "markdown",
   "id": "bored-encounter",
   "metadata": {},
   "source": [
    "# DCSI 525 Milestone 1 _ group 1"
   ]
  },
  {
   "cell_type": "markdown",
   "id": "arctic-somerset",
   "metadata": {},
   "source": [
    "Contributors:\n",
    "- Jacob McFarlane\n",
    "- Sang Yoon Lee\n",
    "- Sukhdeep Kaur\n",
    "- Yiki Su"
   ]
  },
  {
   "cell_type": "markdown",
   "id": "flush-pharmacology",
   "metadata": {},
   "source": [
    "## Step 0 - Import dependencies and set directory"
   ]
  },
  {
   "cell_type": "code",
   "execution_count": 1,
   "id": "senior-acrylic",
   "metadata": {},
   "outputs": [],
   "source": [
    "import re\n",
    "import os\n",
    "import glob\n",
    "import zipfile\n",
    "import requests\n",
    "import matplotlib\n",
    "import json\n",
    "import pandas as pd\n",
    "from urllib.request import urlretrieve\n",
    "from memory_profiler import memory_usage\n",
    "import pyarrow.dataset as ds\n",
    "import pyarrow as pa\n",
    "import pyarrow.parquet as pq\n",
    "import rpy2.rinterface\n",
    "import rpy2_arrow.pyarrow_rarrow as pyra\n",
    "import pyarrow.feather as feather"
   ]
  },
  {
   "cell_type": "code",
   "execution_count": 2,
   "id": "dangerous-investing",
   "metadata": {},
   "outputs": [
    {
     "name": "stderr",
     "output_type": "stream",
     "text": [
      "C:\\Users\\Sang\\miniconda3\\envs\\525\\lib\\site-packages\\rpy2\\robjects\\packages.py:366: UserWarning: The symbol 'quartz' is not in this R namespace/package.\n",
      "  warnings.warn(\n"
     ]
    }
   ],
   "source": [
    "%load_ext rpy2.ipython\n",
    "%load_ext memory_profiler"
   ]
  },
  {
   "cell_type": "code",
   "execution_count": 3,
   "id": "thorough-destiny",
   "metadata": {},
   "outputs": [
    {
     "data": {
      "text/plain": [
       "'C:\\\\Users\\\\Sang\\\\aus_rain_cloud'"
      ]
     },
     "execution_count": 3,
     "metadata": {},
     "output_type": "execute_result"
    }
   ],
   "source": [
    "%pwd"
   ]
  },
  {
   "cell_type": "code",
   "execution_count": 4,
   "id": "photographic-premises",
   "metadata": {},
   "outputs": [
    {
     "name": "stdout",
     "output_type": "stream",
     "text": [
      "C:\\Users\\Sang\n"
     ]
    }
   ],
   "source": [
    "%cd /Users/Sang/"
   ]
  },
  {
   "cell_type": "markdown",
   "id": "smooth-complexity",
   "metadata": {},
   "source": [
    "## Step 1 - Downloading the data"
   ]
  },
  {
   "cell_type": "code",
   "execution_count": 5,
   "id": "about-czech",
   "metadata": {},
   "outputs": [],
   "source": [
    "article_id = 14096681 \n",
    "url = f\"https://api.figshare.com/v2/articles/{article_id}\"\n",
    "headers = {\"Content-Type\": \"application/json\"}\n",
    "output_directory = \"figshareairline/\""
   ]
  },
  {
   "cell_type": "code",
   "execution_count": 6,
   "id": "published-converter",
   "metadata": {},
   "outputs": [
    {
     "data": {
      "text/plain": [
       "[{'is_link_only': False,\n",
       "  'name': 'daily_rainfall_2014.png',\n",
       "  'supplied_md5': 'fd32a2ffde300a31f8d63b1825d47e5e',\n",
       "  'computed_md5': 'fd32a2ffde300a31f8d63b1825d47e5e',\n",
       "  'id': 26579150,\n",
       "  'download_url': 'https://ndownloader.figshare.com/files/26579150',\n",
       "  'size': 58863},\n",
       " {'is_link_only': False,\n",
       "  'name': 'environment.yml',\n",
       "  'supplied_md5': '060b2020017eed93a1ee7dd8c65b2f34',\n",
       "  'computed_md5': '060b2020017eed93a1ee7dd8c65b2f34',\n",
       "  'id': 26579171,\n",
       "  'download_url': 'https://ndownloader.figshare.com/files/26579171',\n",
       "  'size': 192},\n",
       " {'is_link_only': False,\n",
       "  'name': 'README.md',\n",
       "  'supplied_md5': '61858c6cc0e6a6d6663a7e4c75bbd88c',\n",
       "  'computed_md5': '61858c6cc0e6a6d6663a7e4c75bbd88c',\n",
       "  'id': 26586554,\n",
       "  'download_url': 'https://ndownloader.figshare.com/files/26586554',\n",
       "  'size': 5422},\n",
       " {'is_link_only': False,\n",
       "  'name': 'data.zip',\n",
       "  'supplied_md5': 'b517383f76e77bd03755a63a8ff83ee9',\n",
       "  'computed_md5': 'b517383f76e77bd03755a63a8ff83ee9',\n",
       "  'id': 26766812,\n",
       "  'download_url': 'https://ndownloader.figshare.com/files/26766812',\n",
       "  'size': 814041183},\n",
       " {'is_link_only': False,\n",
       "  'name': 'get_data.py',\n",
       "  'supplied_md5': '7829028495fd9dec9680ea013474afa6',\n",
       "  'computed_md5': '7829028495fd9dec9680ea013474afa6',\n",
       "  'id': 26766815,\n",
       "  'download_url': 'https://ndownloader.figshare.com/files/26766815',\n",
       "  'size': 4113}]"
      ]
     },
     "execution_count": 6,
     "metadata": {},
     "output_type": "execute_result"
    }
   ],
   "source": [
    "response = requests.request(\"GET\", url, headers=headers)\n",
    "data = json.loads(response.text)\n",
    "files = data[\"files\"]             \n",
    "files"
   ]
  },
  {
   "cell_type": "code",
   "execution_count": 7,
   "id": "sharing-decrease",
   "metadata": {},
   "outputs": [
    {
     "name": "stdout",
     "output_type": "stream",
     "text": [
      "Wall time: 1min 4s\n"
     ]
    }
   ],
   "source": [
    "%%time\n",
    "files_to_dl = [\"data.zip\"]\n",
    "for file in files:\n",
    "    if file[\"name\"] in files_to_dl:\n",
    "        os.makedirs(output_directory, exist_ok=True)\n",
    "        urlretrieve(file[\"download_url\"], output_directory + file[\"name\"])"
   ]
  },
  {
   "cell_type": "code",
   "execution_count": 8,
   "id": "equivalent-glory",
   "metadata": {},
   "outputs": [
    {
     "name": "stdout",
     "output_type": "stream",
     "text": [
      "Wall time: 23.6 s\n"
     ]
    }
   ],
   "source": [
    "%%time\n",
    "with zipfile.ZipFile(os.path.join(output_directory, \"data.zip\"), 'r') as f:\n",
    "    f.extractall(output_directory)"
   ]
  },
  {
   "cell_type": "markdown",
   "id": "impaired-definition",
   "metadata": {},
   "source": [
    "## Step 2 - Combining the csvs"
   ]
  },
  {
   "cell_type": "code",
   "execution_count": 9,
   "id": "structural-arthur",
   "metadata": {},
   "outputs": [
    {
     "name": "stdout",
     "output_type": "stream",
     "text": [
      "peak memory: 282.98 MiB, increment: 0.24 MiB\n",
      "Wall time: 9min 12s\n"
     ]
    }
   ],
   "source": [
    "%%time\n",
    "%memit\n",
    "\n",
    "import pandas as pd\n",
    "files = glob.glob('figshareairline/*.csv')\n",
    "df = pd.concat((pd.read_csv(file, index_col=0).assign(model=re.findall(r'^.*?(?=_)', os.path.basename(file))[0])\n",
    "                for file in files))\n",
    "\n",
    "df.to_csv(\"figshareairline/combined_data.csv\")"
   ]
  },
  {
   "cell_type": "markdown",
   "id": "vital-signature",
   "metadata": {},
   "source": [
    ">The comparison of run times and memory usages on different machine.\n",
    ">\n",
    "|OS|RAM|Time|Memory usages|\n",
    "|:--:|:---:|:---:|:---:|\n",
    "|Mac|8 Gb| 6 mins 46 s|peak memory: 1692 MiB<br> increment: 69.48 MiB|\n",
    "|Windows 10 professional|8 Gb| system crashed while combining the csv|system crashed while combining the csv|\n",
    "|Windows 10 professional|16 Gb| 10 mins|peak memory: 82.52 MiB<br> increment: 0.82 MiB|\n",
    "|Windows 10 professional|16 Gb| 7min 45s|peak memory: 279.80 MiB<br> increment: 0.01 MiB|"
   ]
  },
  {
   "cell_type": "markdown",
   "id": "adequate-petersburg",
   "metadata": {},
   "source": [
    "## Step 3 - Loading and EDA in Python"
   ]
  },
  {
   "cell_type": "markdown",
   "id": "mighty-indication",
   "metadata": {},
   "source": [
    "### EDA 1 - using pandas chunksize"
   ]
  },
  {
   "cell_type": "code",
   "execution_count": 85,
   "id": "together-match",
   "metadata": {},
   "outputs": [
    {
     "name": "stdout",
     "output_type": "stream",
     "text": [
      "SAM0-UNICON    62513863\n",
      "Name: model, dtype: int64\n",
      "peak memory: 4356.98 MiB, increment: 1848.12 MiB\n",
      "CPU times: user 1min 14s, sys: 34.6 s, total: 1min 48s\n",
      "Wall time: 2min 9s\n"
     ]
    }
   ],
   "source": [
    "%%time\n",
    "%%memit\n",
    "df = pd.read_csv(\"figshareairline/combined_data.csv\")\n",
    "print(df[\"model\"].value_counts())"
   ]
  },
  {
   "cell_type": "code",
   "execution_count": 83,
   "id": "possible-kazakhstan",
   "metadata": {
    "tags": []
   },
   "outputs": [
    {
     "name": "stdout",
     "output_type": "stream",
     "text": [
      "SAM0-UNICON    62513863.0\n",
      "dtype: float64\n",
      "peak memory: 3048.96 MiB, increment: 416.56 MiB\n",
      "CPU times: user 1min 5s, sys: 9.11 s, total: 1min 14s\n",
      "Wall time: 1min 17s\n"
     ]
    }
   ],
   "source": [
    "%%time\n",
    "%%memit\n",
    "counts = pd.Series(dtype=int)\n",
    "for chunk in pd.read_csv(\"figshareairline/combined_data.csv\", chunksize=10_000_000):\n",
    "    counts = counts.add(chunk[\"model\"].value_counts(), fill_value=0)\n",
    "print(counts)"
   ]
  },
  {
   "cell_type": "markdown",
   "id": "genuine-protest",
   "metadata": {},
   "source": [
    ">The comparison of run times and memory usages on different machine.\n",
    ">\n",
    ">|OS|RAM|Time|Memory usages|\n",
    "|:--:|:---:|:---:|:---:|\n",
    "|Mac|8 Gb| 1min 17s|peak memory: 3048.96 MiB<br> increment: 416.56 MiB|\n",
    "|Windows 10 professional|16 Gb| 2min 3s|peak memory: 5162.25 MiB<br> increment: 0.58 MiB|\n",
    ">\n",
    ">Overall: In EDA1, we have observed in two machines that when we are reading the combined file in chunks as compared to reading the full file in one go using pandas, the time and memory usage are less when we are reading the file in chunks."
   ]
  },
  {
   "cell_type": "markdown",
   "id": "detected-engagement",
   "metadata": {},
   "source": [
    "### EDA 2 - Changing dtype of the data using Pandas"
   ]
  },
  {
   "cell_type": "code",
   "execution_count": 10,
   "id": "thirty-break",
   "metadata": {},
   "outputs": [
    {
     "name": "stdout",
     "output_type": "stream",
     "text": [
      "Memory usage with float64: 3500.78 MB\n",
      "Memory usage with float32: 2250.50 MB\n",
      "Wall time: 1.15 s\n"
     ]
    }
   ],
   "source": [
    "%%time\n",
    "print(f\"Memory usage with float64: {df.memory_usage().sum() / 1e6:.2f} MB\")\n",
    "print(f\"Memory usage with float32: {df.astype('float32', errors='ignore').memory_usage().sum() / 1e6:.2f} MB\")"
   ]
  },
  {
   "cell_type": "markdown",
   "id": "czech-elizabeth",
   "metadata": {},
   "source": [
    ">The comparison of memory usages on different machine.\n",
    ">\n",
    ">|OS|RAM|Memory usages(float32)|Memory usages(float64)|\n",
    "|:--:|:---:|:---:|:---:|\n",
    "|Mac|8 Gb| 3048.96 MB|2250.50 MB|\n",
    "|Windows 10 professional|16 Gb|3048.96 MB|2250.50 MB|\n",
    ">\n",
    ">Overall: In EDA2, we have observed in two machines that when we are are changing the datatypes to float32 from float64, the system takes less memory."
   ]
  },
  {
   "cell_type": "markdown",
   "id": "rubber-element",
   "metadata": {},
   "source": [
    "### EDA 3 - Using specific columns"
   ]
  },
  {
   "cell_type": "code",
   "execution_count": 11,
   "id": "hollow-manufacturer",
   "metadata": {},
   "outputs": [
    {
     "name": "stdout",
     "output_type": "stream",
     "text": [
      "peak memory: 8295.74 MiB, increment: 4569.64 MiB\n",
      "Wall time: 53.1 s\n"
     ]
    }
   ],
   "source": [
    "%%time\n",
    "%%memit\n",
    "usecols =  ['time', 'rain (mm/day)', 'model']\n",
    "#simple pandas - This is how we do normally ,which means we are loading the entire data to the memory\n",
    "df = pd.read_csv(\"figshareairline/combined_data.csv\", usecols= usecols)\n",
    "df.head(5)"
   ]
  },
  {
   "cell_type": "markdown",
   "id": "aggregate-evening",
   "metadata": {},
   "source": [
    ">The comparison of run times and memory usages on different machine.\n",
    ">\n",
    ">|OS|RAM|Time|Memory usages|\n",
    "|:--:|:---:|:---:|:---:|\n",
    "|Mac|8 Gb| 3min 55s|peak memory: 2852.70 MiB<br> increment: 2707.99 MiB|\n",
    "|Windows 10 professional|16 Gb| 1min 23s|peak memory: 9159.09 MiB<br> increment: 3812.83 MiB|\n",
    ">\n",
    ">Overall: In this EDA, we used few columns from the combined file and observed that the memory usage is lower as compared to loading the file with all the columns."
   ]
  },
  {
   "cell_type": "code",
   "execution_count": 19,
   "id": "considered-commonwealth",
   "metadata": {},
   "outputs": [
    {
     "name": "stdout",
     "output_type": "stream",
     "text": [
      "Collecting matplotlib\n",
      "  Downloading matplotlib-3.4.1-cp39-cp39-win_amd64.whl (7.1 MB)\n",
      "Requirement already satisfied: pillow>=6.2.0 in c:\\users\\sang\\miniconda3\\envs\\525\\lib\\site-packages (from matplotlib) (8.1.2)\n",
      "Requirement already satisfied: numpy>=1.16 in c:\\users\\sang\\miniconda3\\envs\\525\\lib\\site-packages (from matplotlib) (1.20.2)\n",
      "Collecting kiwisolver>=1.0.1\n",
      "  Downloading kiwisolver-1.3.1-cp39-cp39-win_amd64.whl (51 kB)\n",
      "Requirement already satisfied: pyparsing>=2.2.1 in c:\\users\\sang\\miniconda3\\envs\\525\\lib\\site-packages (from matplotlib) (2.4.7)\n",
      "Requirement already satisfied: python-dateutil>=2.7 in c:\\users\\sang\\miniconda3\\envs\\525\\lib\\site-packages (from matplotlib) (2.8.1)\n",
      "Collecting cycler>=0.10\n",
      "  Downloading cycler-0.10.0-py2.py3-none-any.whl (6.5 kB)\n",
      "Requirement already satisfied: six in c:\\users\\sang\\miniconda3\\envs\\525\\lib\\site-packages (from cycler>=0.10->matplotlib) (1.15.0)\n",
      "Installing collected packages: kiwisolver, cycler, matplotlib\n",
      "Successfully installed cycler-0.10.0 kiwisolver-1.3.1 matplotlib-3.4.1\n"
     ]
    }
   ],
   "source": [
    "#!pip install matplotlib"
   ]
  },
  {
   "cell_type": "code",
   "execution_count": 12,
   "id": "soviet-melissa",
   "metadata": {},
   "outputs": [
    {
     "name": "stdout",
     "output_type": "stream",
     "text": [
      "peak memory: 4737.94 MiB, increment: 1300.15 MiB\n",
      "Wall time: 43.2 s\n"
     ]
    },
    {
     "data": {
      "image/png": "[encoded data removed]",
      "text/plain": [
       "<Figure size 432x288 with 1 Axes>"
      ]
     },
     "metadata": {
      "needs_background": "light"
     },
     "output_type": "display_data"
    }
   ],
   "source": [
    "%%time\n",
    "%%memit\n",
    "climate_data = df\n",
    "climate_data['time'] = pd.to_datetime(climate_data['time'])\n",
    "climate_data['month'] = climate_data.time.dt.month\n",
    "climate_data.groupby(\"month\").mean('rainfall (mm/day)')[['rain (mm/day)']].plot()"
   ]
  },
  {
   "cell_type": "markdown",
   "id": "verbal-airline",
   "metadata": {},
   "source": [
    "> Findings from plot above.\n",
    ">- On Average, Rainfall Seems to be lowest in Australia during the Austral Autumn and Winter.\n",
    ">- Most days in australia have very little rainfall."
   ]
  },
  {
   "cell_type": "markdown",
   "id": "material-ottawa",
   "metadata": {},
   "source": [
    "## Step 4 - EDA using R"
   ]
  },
  {
   "cell_type": "code",
   "execution_count": 5,
   "id": "hired-typing",
   "metadata": {},
   "outputs": [
    {
     "name": "stderr",
     "output_type": "stream",
     "text": [
      "R[write to console]: -- \u001b[1mAttaching packages\u001b[22m --------------------------------------- tidyverse 1.3.0 --\n",
      "\n",
      "R[write to console]: \u001b[32m<U+221A>\u001b[39m \u001b[34mggplot2\u001b[39m 3.3.3     \u001b[32m<U+221A>\u001b[39m \u001b[34mpurrr  \u001b[39m 0.3.4\n",
      "\u001b[32m<U+221A>\u001b[39m \u001b[34mtibble \u001b[39m 3.0.5     \u001b[32m<U+221A>\u001b[39m \u001b[34mdplyr  \u001b[39m 1.0.3\n",
      "\u001b[32m<U+221A>\u001b[39m \u001b[34mtidyr  \u001b[39m 1.1.2     \u001b[32m<U+221A>\u001b[39m \u001b[34mstringr\u001b[39m 1.4.0\n",
      "\u001b[32m<U+221A>\u001b[39m \u001b[34mreadr  \u001b[39m 1.4.0     \u001b[32m<U+221A>\u001b[39m \u001b[34mforcats\u001b[39m 0.5.1\n",
      "\n",
      "R[write to console]: -- \u001b[1mConflicts\u001b[22m ------------------------------------------ tidyverse_conflicts() --\n",
      "\u001b[31mx\u001b[39m \u001b[34mdplyr\u001b[39m::\u001b[32mfilter()\u001b[39m masks \u001b[34mstats\u001b[39m::filter()\n",
      "\u001b[31mx\u001b[39m \u001b[34mdplyr\u001b[39m::\u001b[32mlag()\u001b[39m    masks \u001b[34mstats\u001b[39m::lag()\n",
      "\n",
      "R[write to console]: \n",
      "Attaching package: 'lubridate'\n",
      "\n",
      "\n",
      "R[write to console]: The following objects are masked from 'package:base':\n",
      "\n",
      "    date, intersect, setdiff, union\n",
      "\n",
      "\n"
     ]
    }
   ],
   "source": [
    "%%R\n",
    "# call library\n",
    "library(\"arrow\")\n",
    "library(\"tidyverse\")\n",
    "library(\"dplyr\")\n",
    "library(\"lubridate\")"
   ]
  },
  {
   "cell_type": "markdown",
   "id": "pleasant-imperial",
   "metadata": {},
   "source": [
    "### Create feather and parquet format"
   ]
  },
  {
   "cell_type": "code",
   "execution_count": 6,
   "id": "social-consent",
   "metadata": {},
   "outputs": [
    {
     "name": "stdout",
     "output_type": "stream",
     "text": [
      "peak memory: 4220.02 MiB, increment: 3878.14 MiB\n",
      "Wall time: 35.7 s\n"
     ]
    }
   ],
   "source": [
    "%%time\n",
    "%%memit\n",
    "dataset = ds.dataset(\"figshareairline/combined_data.csv\", format=\"csv\")\n",
    "table = dataset.to_table()"
   ]
  },
  {
   "cell_type": "code",
   "execution_count": 15,
   "id": "external-amateur",
   "metadata": {},
   "outputs": [
    {
     "name": "stdout",
     "output_type": "stream",
     "text": [
      "peak memory: 6164.29 MiB, increment: 20.36 MiB\n",
      "Wall time: 4.74 s\n"
     ]
    }
   ],
   "source": [
    "%%time\n",
    "%%memit\n",
    "# create feather file\n",
    "feather.write_feather(table, 'figshareairline/rain.feather')"
   ]
  },
  {
   "cell_type": "code",
   "execution_count": 16,
   "id": "conceptual-bundle",
   "metadata": {},
   "outputs": [
    {
     "name": "stdout",
     "output_type": "stream",
     "text": [
      "Wall time: 13.1 s\n"
     ]
    }
   ],
   "source": [
    "%%time\n",
    "## writing as a single parquet \n",
    "pq.write_to_dataset(table, 'figshareairline/rain.parquet')"
   ]
  },
  {
   "cell_type": "code",
   "execution_count": 7,
   "id": "native-enforcement",
   "metadata": {},
   "outputs": [
    {
     "name": "stdout",
     "output_type": "stream",
     "text": [
      "5.7G\tfigshareairline/combined_data.csv\n",
      "1.1G\tfigshareairline/rain.feather\n",
      "542M\tfigshareairline/rain.parquet\n"
     ]
    }
   ],
   "source": [
    "%%sh\n",
    "# check the data size\n",
    "du -sh figshareairline/combined_data.csv\n",
    "du -sh figshareairline/rain.feather\n",
    "du -sh figshareairline/rain.parquet"
   ]
  },
  {
   "cell_type": "markdown",
   "id": "consecutive-capitol",
   "metadata": {},
   "source": [
    "### EAD1 - use various file format"
   ]
  },
  {
   "cell_type": "code",
   "execution_count": 7,
   "id": "significant-honey",
   "metadata": {},
   "outputs": [
    {
     "name": "stdout",
     "output_type": "stream",
     "text": [
      "5756\n",
      "rarrow.ChunkedArray: 0.04695248603820801\n",
      "5756\n",
      "rarrow.ChunkedArray: 0.08302617073059082\n",
      "5756\n",
      "rarrow.ChunkedArray: 0.04500317573547363\n",
      "5756\n",
      "rarrow.ChunkedArray: 0.04104423522949219\n",
      "5756\n",
      "rarrow.ChunkedArray: 0.042853355407714844\n",
      "5756\n",
      "rarrow.ChunkedArray: 0.03500056266784668\n",
      "5756\n",
      "rarrow.ChunkedArray: 0.03400850296020508\n",
      "peak memory: 4291.91 MiB, increment: 76.25 MiB\n",
      "Wall time: 38.9 s\n"
     ]
    }
   ],
   "source": [
    "%%time\n",
    "%%memit\n",
    "# loading the arrow dataframe\n",
    "rain_table = pyra.converter.py2rpy(table)"
   ]
  },
  {
   "cell_type": "code",
   "execution_count": 9,
   "id": "looking-vacuum",
   "metadata": {},
   "outputs": [
    {
     "name": "stdout",
     "output_type": "stream",
     "text": [
      "[1] \"tbl_df\"     \"tbl\"        \"data.frame\"\n",
      "\u001b[38;5;246m# A tibble: 28 x 2\u001b[39m\n",
      "   model                  n\n",
      " \u001b[38;5;250m*\u001b[39m \u001b[3m\u001b[38;5;246m<chr>\u001b[39m\u001b[23m              \u001b[3m\u001b[38;5;246m<int>\u001b[39m\u001b[23m\n",
      "\u001b[38;5;250m 1\u001b[39m ACCESS-CM2       1\u001b[4m9\u001b[24m\u001b[4m3\u001b[24m\u001b[4m2\u001b[24m840\n",
      "\u001b[38;5;250m 2\u001b[39m ACCESS-ESM1-5    1\u001b[4m6\u001b[24m\u001b[4m1\u001b[24m\u001b[4m0\u001b[24m700\n",
      "\u001b[38;5;250m 3\u001b[39m AWI-ESM-1-1-LR    \u001b[4m9\u001b[24m\u001b[4m6\u001b[24m\u001b[4m6\u001b[24m420\n",
      "\u001b[38;5;250m 4\u001b[39m BCC-CSM2-MR      3\u001b[4m0\u001b[24m\u001b[4m3\u001b[24m\u001b[4m5\u001b[24m340\n",
      "\u001b[38;5;250m 5\u001b[39m BCC-ESM1          \u001b[4m5\u001b[24m\u001b[4m5\u001b[24m\u001b[4m1\u001b[24m880\n",
      "\u001b[38;5;250m 6\u001b[39m CanESM5           \u001b[4m5\u001b[24m\u001b[4m5\u001b[24m\u001b[4m1\u001b[24m880\n",
      "\u001b[38;5;250m 7\u001b[39m CMCC-CM2-HR4     3\u001b[4m5\u001b[24m\u001b[4m4\u001b[24m\u001b[4m1\u001b[24m230\n",
      "\u001b[38;5;250m 8\u001b[39m CMCC-CM2-SR5     3\u001b[4m5\u001b[24m\u001b[4m4\u001b[24m\u001b[4m1\u001b[24m230\n",
      "\u001b[38;5;250m 9\u001b[39m CMCC-ESM2        3\u001b[4m5\u001b[24m\u001b[4m4\u001b[24m\u001b[4m1\u001b[24m230\n",
      "\u001b[38;5;250m10\u001b[39m EC-Earth3-Veg-LR 3\u001b[4m0\u001b[24m\u001b[4m3\u001b[24m\u001b[4m7\u001b[24m320\n",
      "\u001b[38;5;246m# ... with 18 more rows\u001b[39m\n",
      "Time difference of 24.34746 secs\n",
      "Wall time: 24.7 s\n"
     ]
    }
   ],
   "source": [
    "%%time\n",
    "%%R -i rain_table\n",
    "start_time <- Sys.time()\n",
    "result_arrow <- rain_table %>% collect() %>% count(model)\n",
    "print(class(rain_table %>% collect()))\n",
    "end_time <- Sys.time()\n",
    "print(result_arrow)\n",
    "print(end_time - start_time)"
   ]
  },
  {
   "cell_type": "code",
   "execution_count": null,
   "id": "hidden-canyon",
   "metadata": {},
   "outputs": [],
   "source": [
    "### Note: Even feature has samller file size than csv file, the system crushed while loading feather file. \n",
    "### Due to crush issues, the code below is not able to run\n",
    "# %%time\n",
    "# %%R\n",
    "# start_time <- Sys.time()\n",
    "#rain_table_feather <- arrow::read_feather(\"figshareairline/rain.feather\")   \n",
    "# result_feather <- rain_table_feather %>% count(model)\n",
    "# end_time <- Sys.time()\n",
    "# print(result_feather)\n",
    "# print(end_time - start_time)\n",
    "  "
   ]
  },
  {
   "cell_type": "code",
   "execution_count": null,
   "id": "delayed-registrar",
   "metadata": {},
   "outputs": [],
   "source": [
    "### Note: Even parquet has samller file size than csv file, the system crushed while loading parquet file. \n",
    "### Due to crush issues, the code below is not able to run\n",
    "# %%time\n",
    "# %%R\n",
    "# start_time <- Sys.time()\n",
    "#rain_table_parquet <- read_parquet(\"figshareairline/rain.parquet\")  \n",
    "# result_parquet <- rain_table_parquet %>% count(model)\n",
    "# end_time <- Sys.time()\n",
    "# print(result_parquet)\n",
    "# print(end_time - start_time)"
   ]
  },
  {
   "cell_type": "code",
   "execution_count": null,
   "id": "celtic-peter",
   "metadata": {},
   "outputs": [],
   "source": [
    "### Note: The system crushed while perform EDA due to memory issues. \n",
    "### Due to out of memory issues, the code below is not able to run\n",
    "# %%time\n",
    "# %%R -i df\n",
    "# start_time <- Sys.time()\n",
    "# result_feather <- df %>% count(model)\n",
    "# end_time <- Sys.time()\n",
    "# print(result_df)\n",
    "# print(end_time - start_time)"
   ]
  },
  {
   "cell_type": "code",
   "execution_count": 16,
   "id": "excited-cannon",
   "metadata": {},
   "outputs": [
    {
     "name": "stdout",
     "output_type": "stream",
     "text": [
      "Time difference of 16.86664 secs\n"
     ]
    },
    {
     "data": {
      "image/png": "[encoded data removed]"
     },
     "metadata": {},
     "output_type": "display_data"
    }
   ],
   "source": [
    "%%R -i rain_table\n",
    "start_time <- Sys.time()\n",
    "fig <- rain_table  %>% collect()  %>% ggplot(aes(x = time, y = `rain (mm/day)`)) +\n",
    "  geom_hex() +\n",
    "  ggtitle('Most Days in Australia Have Very Little Rainfall')\n",
    "end_time <- Sys.time()\n",
    "print(fig)\n",
    "print(end_time - start_time)"
   ]
  },
  {
   "cell_type": "code",
   "execution_count": 18,
   "id": "mobile-letters",
   "metadata": {},
   "outputs": [
    {
     "name": "stdout",
     "output_type": "stream",
     "text": [
      "Time difference of 2.386146 mins\n"
     ]
    },
    {
     "data": {
      "image/png": "[encoded data removed]"
     },
     "metadata": {},
     "output_type": "display_data"
    },
    {
     "name": "stdout",
     "output_type": "stream",
     "text": [
      "Wall time: 2min 23s\n"
     ]
    }
   ],
   "source": [
    "%%time\n",
    "%%R -i rain_table\n",
    "start_time <- Sys.time()\n",
    "fig <- rain_table  %>% \n",
    "  collect() %>%\n",
    "  mutate(month_of_year = month(time, label = TRUE)) %>%\n",
    "  group_by(month_of_year) %>%\n",
    "  summarise(monthly_rainfall = mean(`rain (mm/day)`)) %>%\n",
    "  ggplot(aes(x = month_of_year, y = monthly_rainfall)) +\n",
    "    geom_col() +\n",
    "    ggtitle('On Average, Rainfall Seems to Be Lowest in Australia \\n During the Austral Autumn and Winter')\n",
    "end_time <- Sys.time()\n",
    "print(fig)\n",
    "print(end_time - start_time)"
   ]
  },
  {
   "cell_type": "markdown",
   "id": "dense-university",
   "metadata": {},
   "source": [
    "> Disscusions from R EDA\n",
    ">- The reason choosing `Arrow exchange` is faster than other format in terms of reading and writing. It takes only 8.8s to \n",
    ">- `Pandas exchange` and `feather` occurs system crush while perform EDA.\n",
    ">- The size of `feather` file is less than that of csv file but there was memory issue in local computer.\n",
    ">- Other team members are not able to perform EDA with R because their local computer has problem with `%%R` magic.\n",
    ">- The last graph return empthy graph becaues it seems that there are some issues when we write data on exist arrow table. "
   ]
  }
 ],
 "metadata": {
  "kernelspec": {
   "display_name": "Python [conda env:525]",
   "language": "python",
   "name": "conda-env-525-py"
  },
  "language_info": {
   "codemirror_mode": {
    "name": "ipython",
    "version": 3
   },
   "file_extension": ".py",
   "mimetype": "text/x-python",
   "name": "python",
   "nbconvert_exporter": "python",
   "pygments_lexer": "ipython3",
   "version": "3.9.2"
  }
 },
 "nbformat": 4,
 "nbformat_minor": 5
}
