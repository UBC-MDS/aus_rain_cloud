{
 "cells": [
  {
   "cell_type": "markdown",
   "id": "4d5991b5-18ea-4e77-ba3e-5e7502a61d4d",
   "metadata": {},
   "source": [
    "# Task 1"
   ]
  },
  {
   "cell_type": "code",
   "execution_count": null,
   "id": "98a47ce7-637f-44b1-87af-da2c619b19df",
   "metadata": {},
   "outputs": [],
   "source": [
    "from flask import Flask, request, jsonify\n",
    "import joblib\n",
    "import numpy as np\n",
    "from sklearn.metrics import mean_squared_error\n",
    "from sklearn.ensemble import RandomForestRegressor\n",
    "from sklearn.model_selection import train_test_split\n",
    "\n",
    "app = Flask(__name__)\n",
    "\n",
    "# 1. Load your model here\n",
    "\n",
    "model = joblib.load('model.joblib')\n",
    "\n",
    "# 2. Define a prediction function\n",
    "def return_prediction(data):\n",
    "    # format input_data here so that you can pass it to model.predict()\n",
    "    return model.predict(data)\n",
    "\n",
    "# 3. Set up home page using basic html\n",
    "@app.route(\"/\")\n",
    "def index():\n",
    "    # feel free to customize this if you like\n",
    "    return \"\"\"\n",
    "    <h1>Welcome to our rain prediction service</h1>\n",
    "    To use this service, make a JSON post request to the /predict url with 25 climate model outputs.\n",
    "    JSON must be of the form {\"data\": [1, 2, 3, 4, 5, 6, 7, 8, 9, 10, 11, 12, 13, 14, 15, 16, 17, 18, 19, 20, 21, 22, 23, 24, 25]}\n",
    "    Order matters: contact the team if you are unfamiliar with the ordering of model inputs.\n",
    "    \"\"\"\n",
    "\n",
    "# 4. define a new route which will accept POST requests and return model predictions\n",
    "@app.route('/predict', methods=['POST'])\n",
    "def rainfall_prediction():\n",
    "    # this extracts the JSON content we sent\n",
    "    content = request.json\n",
    "    data = content[\"data\"]\n",
    "    data = np.array(data)\n",
    "    result = return_prediction(data.reshape(1, -1)).tolist()\n",
    "    return jsonify(predictions = result)\n",
    "\n"
   ]
  },
  {
   "cell_type": "markdown",
   "id": "11091f66-cea7-4b15-aed6-3f489ff54459",
   "metadata": {},
   "source": [
    "# Task 3"
   ]
  },
  {
   "cell_type": "markdown",
   "id": "6abede65-ba3f-42a8-89d3-7d0f37900a2d",
   "metadata": {},
   "source": [
    "- In this class, we learned all the steps necessary to deploy a simple model on the cloud using the AWS framework. Weeks 1-2 taught us to use and interact with EC2 and S3.\n",
    "\n",
    "- In week 3 we learned to utilize distributed computing on the cloud to select hyperparameters. In week4, we used a REST API to deploy our model on the cloud."
   ]
  },
  {
   "cell_type": "markdown",
   "id": "3d33b462-d410-4b1a-a9a0-f72ba2c80264",
   "metadata": {},
   "source": [
    "# Screenshot"
   ]
  },
  {
   "cell_type": "markdown",
   "id": "aee98f92-14e7-4959-9540-c65ccf4d9b4e",
   "metadata": {},
   "source": [
    "<img src=\"jsonresult.jpg\">"
   ]
  },
  {
   "cell_type": "code",
   "execution_count": null,
   "id": "f87c226f-109c-4bad-8e15-b18cf39e867e",
   "metadata": {},
   "outputs": [],
   "source": []
  }
 ],
 "metadata": {
  "kernelspec": {
   "display_name": "Python [conda env:525]",
   "language": "python",
   "name": "conda-env-525-py"
  },
  "language_info": {
   "codemirror_mode": {
    "name": "ipython",
    "version": 3
   },
   "file_extension": ".py",
   "mimetype": "text/x-python",
   "name": "python",
   "nbconvert_exporter": "python",
   "pygments_lexer": "ipython3",
   "version": "3.8.6"
  }
 },
 "nbformat": 4,
 "nbformat_minor": 5
}
