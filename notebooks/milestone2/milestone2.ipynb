{
 "cells": [
  {
   "cell_type": "markdown",
   "id": "ac32c303",
   "metadata": {},
   "source": [
    "# DCSI 525 Milestone 2 _ group 1"
   ]
  },
  {
   "cell_type": "markdown",
   "id": "58b7fdf0",
   "metadata": {},
   "source": [
    "Contributors:\n",
    "- Jacob McFarlane\n",
    "- Sang Yoon Lee\n",
    "- Sukhdeep Kaur\n",
    "- Yiki Su"
   ]
  },
  {
   "cell_type": "markdown",
   "id": "4a7758da",
   "metadata": {},
   "source": [
    "## Milestone 2 checklist  "
   ]
  },
  {
   "cell_type": "markdown",
   "id": "3b7de106",
   "metadata": {},
   "source": [
    "- [x] Setup your EC2 instance with JupyterHub.  \n",
    "- [x] Install all necessary things needed in your UNIX server (amazon ec2 instance).\n",
    "- [x] Setup your S3 bucket.\n",
    "- [x] Move the data that you wrangled in your last milestone to s3.\n",
    "- [x] Get the data from S3 in your notebook and make data ready for machine learning.\n"
   ]
  },
  {
   "cell_type": "markdown",
   "id": "9b29a0ea",
   "metadata": {},
   "source": [
    "### 1. Setup your EC2 instance\n",
    "<hr>"
   ]
  },
  {
   "cell_type": "markdown",
   "id": "e46f7b0b",
   "metadata": {},
   "source": [
    "<img src=\"image/1stCapture.jpeg\" width=\"6526\" />\n"
   ]
  },
  {
   "cell_type": "markdown",
   "id": "6f9a6f44",
   "metadata": {
    "tags": []
   },
   "source": [
    "<br><br>"
   ]
  },
  {
   "cell_type": "markdown",
   "id": "17588f7d",
   "metadata": {},
   "source": [
    "### 2. Setup your JupyterHub\n",
    "<hr>"
   ]
  },
  {
   "cell_type": "markdown",
   "id": "8c56d14f",
   "metadata": {},
   "source": [
    "<img src=\"image/Capture.PNG\" width=\"6526\" />\n"
   ]
  },
  {
   "cell_type": "markdown",
   "id": "45051163",
   "metadata": {
    "tags": []
   },
   "source": [
    "<br><br>"
   ]
  },
  {
   "cell_type": "markdown",
   "id": "7479ab46",
   "metadata": {},
   "source": [
    "### 3. Setup the server \n",
    "<hr>"
   ]
  },
  {
   "cell_type": "markdown",
   "id": "cecdbec8",
   "metadata": {},
   "source": [
    "<img src=\"image/2ndCapture.PNG\" width=\"6526\" />\n"
   ]
  },
  {
   "cell_type": "markdown",
   "id": "f46a2ec3",
   "metadata": {
    "tags": []
   },
   "source": [
    "<br><br>"
   ]
  },
  {
   "cell_type": "markdown",
   "id": "9a83dcee",
   "metadata": {},
   "source": [
    "### 4. Get the data what we wrangled in our first milestone. \n",
    "<hr>"
   ]
  },
  {
   "cell_type": "markdown",
   "id": "7f896c60",
   "metadata": {},
   "source": [
    "- See \"milestone2_wrangling.ipynb\" file in same folder."
   ]
  },
  {
   "cell_type": "markdown",
   "id": "29c2debe",
   "metadata": {
    "tags": []
   },
   "source": [
    "<br><br>"
   ]
  },
  {
   "cell_type": "markdown",
   "id": "c6a2e60c",
   "metadata": {},
   "source": [
    "### 5. Setup your S3 bucket and move data\n",
    "<hr>"
   ]
  },
  {
   "cell_type": "markdown",
   "id": "ca62d008",
   "metadata": {},
   "source": [
    "<img src=\"image/3rdCapture.PNG\" width=\"6526\" />\n"
   ]
  },
  {
   "cell_type": "markdown",
   "id": "2ef76b39",
   "metadata": {
    "tags": []
   },
   "source": [
    "<br><br>"
   ]
  },
  {
   "cell_type": "markdown",
   "id": "38cea5b2",
   "metadata": {},
   "source": [
    "### 6. Wrangle the data in preparation for machine learning\n",
    "<hr>"
   ]
  },
  {
   "cell_type": "markdown",
   "id": "8af31306",
   "metadata": {},
   "source": [
    "<img src=\"image/result_df.PNG\" width=\"6526\" />\n"
   ]
  },
  {
   "cell_type": "markdown",
   "id": "de794376",
   "metadata": {},
   "source": [
    "- Code for above see \"milestone2_wrangling.ipynb\" file in same folder."
   ]
  }
 ],
 "metadata": {
  "kernelspec": {
   "display_name": "Python 3",
   "language": "python",
   "name": "python3"
  },
  "language_info": {
   "codemirror_mode": {
    "name": "ipython",
    "version": 3
   },
   "file_extension": ".py",
   "mimetype": "text/x-python",
   "name": "python",
   "nbconvert_exporter": "python",
   "pygments_lexer": "ipython3",
   "version": "3.8.8"
  }
 },
 "nbformat": 4,
 "nbformat_minor": 5
}
