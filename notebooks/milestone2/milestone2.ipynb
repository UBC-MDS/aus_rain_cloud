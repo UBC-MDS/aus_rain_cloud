{
 "cells": [
  {
   "cell_type": "markdown",
   "id": "372e7907",
   "metadata": {},
   "source": [
    "# DCSI 525 Milestone 2 _ group 1"
   ]
  },
  {
   "cell_type": "markdown",
   "id": "3f339455",
   "metadata": {},
   "source": [
    "Contributors:\n",
    "- Jacob McFarlane\n",
    "- Sang Yoon Lee\n",
    "- Sukhdeep Kaur\n",
    "- Yiki Su"
   ]
  },
  {
   "cell_type": "markdown",
   "id": "d8f09f66",
   "metadata": {},
   "source": [
    "## Milestone 2 checklist  "
   ]
  },
  {
   "cell_type": "markdown",
   "id": "e7f16e48",
   "metadata": {},
   "source": [
    "- [x] Setup your EC2 instance with JupyterHub.  \n",
    "- [x] Install all necessary things needed in your UNIX server (amazon ec2 instance).\n",
    "- [x] Setup your S3 bucket.\n",
    "- [x] Move the data that you wrangled in your last milestone to s3.\n",
    "- [x] Get the data from S3 in your notebook and make data ready for machine learning.\n"
   ]
  },
  {
   "cell_type": "markdown",
   "id": "d3d73607",
   "metadata": {},
   "source": [
    "### 1. Setup your EC2 instance"
   ]
  },
  {
   "cell_type": "markdown",
   "id": "655d04ad",
   "metadata": {},
   "source": [
    "<img src=\"../image/1stCapture.jpeg\" width=\"6526\" />\n"
   ]
  },
  {
   "cell_type": "markdown",
   "id": "947c4d0f",
   "metadata": {},
   "source": [
    "### 2. Setup your JupyterHub"
   ]
  },
  {
   "cell_type": "markdown",
   "id": "6de82d2a",
   "metadata": {},
   "source": [
    "<img src=\"../image/Capture.PNG\" width=\"6526\" />\n"
   ]
  },
  {
   "cell_type": "markdown",
   "id": "6255afbb",
   "metadata": {},
   "source": [
    "### 3. Setup the server "
   ]
  },
  {
   "cell_type": "markdown",
   "id": "a771697c",
   "metadata": {},
   "source": [
    "<img src=\"../image/2ndCapture.PNG\" width=\"6526\" />\n"
   ]
  },
  {
   "cell_type": "markdown",
   "id": "89342d59",
   "metadata": {},
   "source": [
    "### 4. Get the data what we wrangled in our first milestone. "
   ]
  },
  {
   "cell_type": "markdown",
   "id": "37b81d77",
   "metadata": {},
   "source": [
    "See \"milestone2_wrangling.ipynb\" file in same folder."
   ]
  },
  {
   "cell_type": "markdown",
   "id": "af7384ab",
   "metadata": {},
   "source": [
    "### 5. Setup your S3 bucket and move data"
   ]
  },
  {
   "cell_type": "markdown",
   "id": "6a5871b3",
   "metadata": {},
   "source": [
    "<img src=\"../image/3rdCapture.PNG\" width=\"6526\" />\n"
   ]
  },
  {
   "cell_type": "markdown",
   "id": "9357d3a1",
   "metadata": {},
   "source": [
    "### 6. Wrangle the data in preparation for machine learning"
   ]
  },
  {
   "cell_type": "markdown",
   "id": "4d661bb5",
   "metadata": {},
   "source": [
    "<img src=\"../image/result_df.PNG\" width=\"6526\" />\n"
   ]
  },
  {
   "cell_type": "markdown",
   "id": "28cd923b",
   "metadata": {},
   "source": [
    "Code for above see \"milestone2_wrangling.ipynb\" file in same folder."
   ]
  },
  {
   "cell_type": "code",
   "execution_count": null,
   "metadata": {},
   "outputs": [],
   "source": []
  }
 ],
 "metadata": {
  "kernelspec": {
   "display_name": "Python 3",
   "language": "python",
   "name": "python3"
  },
  "language_info": {
   "codemirror_mode": {
    "name": "ipython",
    "version": 3
   },
   "file_extension": ".py",
   "mimetype": "text/x-python",
   "name": "python",
   "nbconvert_exporter": "python",
   "pygments_lexer": "ipython3",
   "version": "3.8.8"
  }
 },
 "nbformat": 4,
 "nbformat_minor": 5
}