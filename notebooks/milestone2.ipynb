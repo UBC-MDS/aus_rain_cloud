{
 "cells": [
  {
   "cell_type": "markdown",
   "id": "improving-hospital",
   "metadata": {},
   "source": [
    "# DCSI 525 Milestone 1 _ group 1"
   ]
  },
  {
   "cell_type": "markdown",
   "id": "complicated-triple",
   "metadata": {},
   "source": [
    "Contributors:\n",
    "- Jacob McFarlane\n",
    "- Sang Yoon Lee\n",
    "- Sukhdeep Kaur\n",
    "- Yiki Su"
   ]
  },
  {
   "cell_type": "markdown",
   "id": "surface-apartment",
   "metadata": {},
   "source": [
    "## Milestone 2 checklist  "
   ]
  },
  {
   "cell_type": "markdown",
   "id": "suited-sydney",
   "metadata": {},
   "source": [
    "- [x] Setup your EC2 instance with JupyterHub.  \n",
    "- [x] Install all necessary things needed in your UNIX server (amazon ec2 instance).\n",
    "- [x] Setup your S3 bucket.\n",
    "- [x] Move the data that you wrangled in your last milestone to s3.\n",
    "- [x] Get the data from S3 in your notebook and make data ready for machine learning.\n"
   ]
  },
  {
   "cell_type": "markdown",
   "id": "express-courtesy",
   "metadata": {},
   "source": [
    "### 1. Setup your EC2 instance"
   ]
  },
  {
   "cell_type": "markdown",
   "id": "voluntary-history",
   "metadata": {},
   "source": [
    "<img src=\"../image/1stCapture.jpeg\" width=\"6526\" />\n"
   ]
  },
  {
   "cell_type": "markdown",
   "id": "organizational-guyana",
   "metadata": {},
   "source": [
    "### 2. Setup your JupyterHub"
   ]
  },
  {
   "cell_type": "markdown",
   "id": "approved-neighbor",
   "metadata": {},
   "source": [
    "<img src=\"../image/Capture.PNG\" width=\"6526\" />\n"
   ]
  },
  {
   "cell_type": "markdown",
   "id": "expired-perry",
   "metadata": {},
   "source": [
    "### 3. Setup the server "
   ]
  },
  {
   "cell_type": "markdown",
   "id": "integrated-pipeline",
   "metadata": {},
   "source": [
    "<img src=\"../image/2ndCapture.PNG\" width=\"6526\" />\n"
   ]
  },
  {
   "cell_type": "markdown",
   "id": "enormous-rotation",
   "metadata": {},
   "source": [
    "### 4. Get the data what we wrangled in our first milestone. "
   ]
  },
  {
   "cell_type": "markdown",
   "id": "chief-commissioner",
   "metadata": {},
   "source": [
    "### 5. Setup your S3 bucket and move data"
   ]
  },
  {
   "cell_type": "markdown",
   "id": "8371ed0d-b9db-40d4-802d-622b487bcb68",
   "metadata": {},
   "source": [
    "<img src=\"../image/3rdCapture.PNG\" width=\"6526\" />\n"
   ]
  },
  {
   "cell_type": "markdown",
   "id": "95d4ed9a-4123-4961-99a0-b041ce6b0ebd",
   "metadata": {},
   "source": [
    "### 6. Wrangle the data in preparation for machine learning"
   ]
  },
  {
   "cell_type": "markdown",
   "id": "0099e871-b95f-4d75-a211-d88dcc7a6560",
   "metadata": {},
   "source": [
    "<img src=\"../image/result_df.PNG\" width=\"6526\" />\n"
   ]
  },
  {
   "cell_type": "code",
   "execution_count": null,
   "id": "be2e83b4-ea87-4b8a-818c-c723cf89d8f1",
   "metadata": {},
   "outputs": [],
   "source": []
  }
 ],
 "metadata": {
  "kernelspec": {
   "display_name": "Python 3",
   "language": "python",
   "name": "python3"
  },
  "language_info": {
   "codemirror_mode": {
    "name": "ipython",
    "version": 3
   },
   "file_extension": ".py",
   "mimetype": "text/x-python",
   "name": "python",
   "nbconvert_exporter": "python",
   "pygments_lexer": "ipython3",
   "version": "3.8.8"
  }
 },
 "nbformat": 4,
 "nbformat_minor": 5
}
